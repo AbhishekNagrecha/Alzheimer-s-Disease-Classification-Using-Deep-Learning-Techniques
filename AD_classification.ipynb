{
 "cells": [
  {
   "cell_type": "markdown",
   "metadata": {
    "colab_type": "text",
    "id": "bZTGo-8p_dAv"
   },
   "source": [
    "#  Alzhiemer's Diesease Classification using Deep Learning Techniques"
   ]
  },
  {
   "cell_type": "code",
   "execution_count": null,
   "metadata": {
    "_cell_guid": "b1076dfc-b9ad-4769-8c92-a6c4dae69d19",
    "_uuid": "8f2839f25d086af736a60e9eeb907d3b93b6e0e5",
    "colab": {},
    "colab_type": "code",
    "id": "OnIbhVyk_dAx"
   },
   "outputs": [],
   "source": [
    "# Here We have imported all the necessary libraries needed\n",
    "import numpy as np \n",
    "import pandas as pd \n",
    "import matplotlib.pyplot as plt\n",
    "%matplotlib inline\n",
    "import tensorflow as tf\n",
    "import keras\n",
    "import glob\n",
    "import cv2\n",
    "\n",
    "#Here I have put my AD classification dataset in an input folder on my desktop.\n",
    "import os\n",
    "print(os.listdir(\"C:/Users/Abhishek Nagrecha/Desktop/input\"))"
   ]
  },
  {
   "cell_type": "markdown",
   "metadata": {
    "colab_type": "text",
    "id": "1_5QMfn4_dA4"
   },
   "source": [
    "# Import .jpg images and Apply the essential Pre-processing Steps"
   ]
  },
  {
   "cell_type": "code",
   "execution_count": null,
   "metadata": {
    "_cell_guid": "79c7e3d0-c299-4dcb-8224-4455121ee9b0",
    "_uuid": "d629ff2d2480ee46fbb7e2d37f6b5fab8052498a",
    "colab": {},
    "colab_type": "code",
    "id": "euTW3XH2_dA6"
   },
   "outputs": [],
   "source": [
    "# Here we created labels for our MildDemented MRI class and did some pre-processing like resizing the images, \n",
    "#changing its color from RGB to BGR which usually works well with the openCV.\n",
    "# This was done using the openCV library\n",
    "images = []\n",
    "labels = [] \n",
    "for dir_path in glob.glob(\"C:/Users/Abhishek Nagrecha/Desktop/input/Alzheimer_s Dataset/train/MildDemented/\"):\n",
    "    label = \"MildDemented\"\n",
    "    for image_path in glob.glob(os.path.join(dir_path, \"*.jpg\")):\n",
    "        image = cv2.imread(image_path, cv2.IMREAD_COLOR)\n",
    "        image = cv2.resize(image, (45, 45))\n",
    "        image = cv2.cvtColor(image, cv2.COLOR_RGB2BGR)\n",
    "        images.append(image)\n",
    "        labels.append(label)\n",
    "for dir_path in glob.glob(\"C:/Users/Abhishek Nagrecha/Desktop/input/Alzheimer_s Dataset/test/MildDemented/\"):\n",
    "    label = \"MildDemented\"\n",
    "    for image_path in glob.glob(os.path.join(dir_path, \"*.jpg\")):\n",
    "        image = cv2.imread(image_path, cv2.IMREAD_COLOR)\n",
    "        image = cv2.resize(image, (45, 45))\n",
    "        image = cv2.cvtColor(image, cv2.COLOR_RGB2BGR)\n",
    "        images.append(image)\n",
    "        labels.append(label)"
   ]
  },
  {
   "cell_type": "code",
   "execution_count": null,
   "metadata": {
    "colab": {},
    "colab_type": "code",
    "id": "ETG35juu_dA_"
   },
   "outputs": [],
   "source": [
    "# Here we created labels for our veryMildDemented MRI class and did some pre-processing like resizing the images, \n",
    "#changing its color from RGB to BGR which usually works well with the openCV.\n",
    "# This was done using the openCV library\n",
    "\n",
    "for dir_path in glob.glob(\"C:/Users/Abhishek Nagrecha/Desktop/input/Alzheimer_s Dataset/train/VeryMildDemented/\"):\n",
    "    label = \"VeryMildDemented\"\n",
    "    for image_path in glob.glob(os.path.join(dir_path, \"*.jpg\")):\n",
    "        image = cv2.imread(image_path, cv2.IMREAD_COLOR)\n",
    "        image = cv2.resize(image, (45, 45))\n",
    "        image = cv2.cvtColor(image, cv2.COLOR_RGB2BGR)\n",
    "        images.append(image)\n",
    "        labels.append(label)\n",
    "for dir_path in glob.glob(\"C:/Users/Abhishek Nagrecha/Desktop/input/Alzheimer_s Dataset/test/VeryMildDemented/\"):\n",
    "    label = \"VeryMildDemented\"\n",
    "    for image_path in glob.glob(os.path.join(dir_path, \"*.jpg\")):\n",
    "        image = cv2.imread(image_path, cv2.IMREAD_COLOR)\n",
    "        image = cv2.resize(image, (45, 45))\n",
    "        image = cv2.cvtColor(image, cv2.COLOR_RGB2BGR)\n",
    "        images.append(image)\n",
    "        labels.append(label)"
   ]
  },
  {
   "cell_type": "code",
   "execution_count": null,
   "metadata": {
    "colab": {},
    "colab_type": "code",
    "id": "Jp4aRo-V_dBD"
   },
   "outputs": [],
   "source": [
    "# Here we created labels for our ModerateDemented MRI class and did some pre-processing like resizing the images, \n",
    "#changing its color from RGB to BGR which usually works well with the openCV.\n",
    "# This was done using the openCV library\n",
    "\n",
    "for dir_path in glob.glob(\"C:/Users/Abhishek Nagrecha/Desktop/input/Alzheimer_s Dataset/train/ModerateDemented/\"):\n",
    "    label = \"ModerateDemented\"\n",
    "    for image_path in glob.glob(os.path.join(dir_path, \"*.jpg\")):\n",
    "        image = cv2.imread(image_path, cv2.IMREAD_COLOR)\n",
    "        image = cv2.resize(image, (45, 45))\n",
    "        image = cv2.cvtColor(image, cv2.COLOR_RGB2BGR)\n",
    "        images.append(image)\n",
    "        labels.append(label)\n",
    "for dir_path in glob.glob(\"C:/Users/Abhishek Nagrecha/Desktop/input/Alzheimer_s Dataset/test/ModerateDemented/\"):\n",
    "    label = \"ModerateDemented\"\n",
    "    for image_path in glob.glob(os.path.join(dir_path, \"*.jpg\")):\n",
    "        image = cv2.imread(image_path, cv2.IMREAD_COLOR)\n",
    "        image = cv2.resize(image, (45, 45))\n",
    "        image = cv2.cvtColor(image, cv2.COLOR_RGB2BGR)\n",
    "        images.append(image)\n",
    "        labels.append(label)"
   ]
  },
  {
   "cell_type": "code",
   "execution_count": null,
   "metadata": {
    "colab": {},
    "colab_type": "code",
    "id": "5moUeKZB_dBG"
   },
   "outputs": [],
   "source": [
    "# Here we created labels for our NonDemented MRI class and did some pre-processing like resizing the images, \n",
    "#changing its color from RGB to BGR which usually works well with the openCV.\n",
    "# This was done using the openCV library\n",
    "\n",
    "for dir_path in glob.glob(\"C:/Users/Abhishek Nagrecha/Desktop/input/Alzheimer_s Dataset/train/NonDemented/\"):\n",
    "    label = \"NonDemented\"\n",
    "    for image_path in glob.glob(os.path.join(dir_path, \"*.jpg\")):\n",
    "        image = cv2.imread(image_path, cv2.IMREAD_COLOR)\n",
    "        image = cv2.resize(image, (45, 45))\n",
    "        image = cv2.cvtColor(image, cv2.COLOR_RGB2BGR)\n",
    "        images.append(image)\n",
    "        labels.append(label)\n",
    "for dir_path in glob.glob(\"C:/Users/Abhishek Nagrecha/Desktop/input/Alzheimer_s Dataset/test/NonDemented/\"):\n",
    "    label = \"NonDemented\"\n",
    "    for image_path in glob.glob(os.path.join(dir_path, \"*.jpg\")):\n",
    "        image = cv2.imread(image_path, cv2.IMREAD_COLOR)\n",
    "        image = cv2.resize(image, (45, 45))\n",
    "        image = cv2.cvtColor(image, cv2.COLOR_RGB2BGR)\n",
    "        images.append(image)\n",
    "        labels.append(label)\n",
    "images = np.array(images)\n",
    "labels = np.array(labels)"
   ]
  },
  {
   "cell_type": "code",
   "execution_count": null,
   "metadata": {
    "colab": {},
    "colab_type": "code",
    "id": "YfEZ31iz_dBJ"
   },
   "outputs": [],
   "source": [
    "# Labeled the four different classes of MRI images by using the id_to_label_dict method.\n",
    "\n",
    "label_to_id_dict = {v:i for i,v in enumerate(np.unique(labels))}\n",
    "id_to_label_dict = {v: k for k, v in label_to_id_dict.items()}"
   ]
  },
  {
   "cell_type": "code",
   "execution_count": null,
   "metadata": {
    "colab": {},
    "colab_type": "code",
    "id": "kzFpTthJ_dBL",
    "outputId": "a1d1dfe3-3d27-4f6f-8514-dbc9dad0e22c"
   },
   "outputs": [
    {
     "data": {
      "text/plain": [
       "{0: 'MildDemented',\n",
       " 1: 'ModerateDemented',\n",
       " 2: 'NonDemented',\n",
       " 3: 'VeryMildDemented'}"
      ]
     },
     "execution_count": 8,
     "metadata": {
      "tags": []
     },
     "output_type": "execute_result"
    }
   ],
   "source": [
    "#These are our four different classes of the Brain MRI images\n",
    "id_to_label_dict"
   ]
  },
  {
   "cell_type": "code",
   "execution_count": null,
   "metadata": {
    "colab": {},
    "colab_type": "code",
    "id": "Qbix2M1u_dBN"
   },
   "outputs": [],
   "source": [
    "label_ids = np.array([label_to_id_dict[x] for x in labels])"
   ]
  },
  {
   "cell_type": "code",
   "execution_count": null,
   "metadata": {
    "colab": {},
    "colab_type": "code",
    "id": "jOkDA2w2_dBP",
    "outputId": "05ae504c-55c6-448a-b0cc-824ad538b246"
   },
   "outputs": [
    {
     "data": {
      "text/plain": [
       "((6400, 45, 45, 3), (6400,), (6400,))"
      ]
     },
     "execution_count": 10,
     "metadata": {
      "tags": []
     },
     "output_type": "execute_result"
    }
   ],
   "source": [
    "#This is our images input shape and also the shape of our labels\n",
    "images.shape, label_ids.shape, labels.shape"
   ]
  },
  {
   "cell_type": "markdown",
   "metadata": {
    "colab_type": "text",
    "id": "-On01_Kd_dBR"
   },
   "source": [
    "# Prepare test (30%) and train (70%)"
   ]
  },
  {
   "cell_type": "code",
   "execution_count": null,
   "metadata": {
    "colab": {},
    "colab_type": "code",
    "id": "_jVtPBu4_dBR"
   },
   "outputs": [],
   "source": [
    "from sklearn.model_selection import train_test_split  \n",
    "X_train, X_test, y_train, y_test = train_test_split(images,label_ids, test_size = 0.30)  "
   ]
  },
  {
   "cell_type": "code",
   "execution_count": null,
   "metadata": {
    "colab": {},
    "colab_type": "code",
    "id": "TW8DGaRW_dBT",
    "outputId": "6f63d54e-80e0-4b42-c751-b46854815318"
   },
   "outputs": [
    {
     "data": {
      "text/plain": [
       "array([[[[0, 0, 0],\n",
       "         [0, 0, 0],\n",
       "         [0, 0, 0],\n",
       "         ...,\n",
       "         [0, 0, 0],\n",
       "         [0, 0, 0],\n",
       "         [0, 0, 0]],\n",
       "\n",
       "        [[0, 0, 0],\n",
       "         [0, 0, 0],\n",
       "         [0, 0, 0],\n",
       "         ...,\n",
       "         [0, 0, 0],\n",
       "         [0, 0, 0],\n",
       "         [0, 0, 0]],\n",
       "\n",
       "        [[0, 0, 0],\n",
       "         [0, 0, 0],\n",
       "         [0, 0, 0],\n",
       "         ...,\n",
       "         [0, 0, 0],\n",
       "         [0, 0, 0],\n",
       "         [0, 0, 0]],\n",
       "\n",
       "        ...,\n",
       "\n",
       "        [[0, 0, 0],\n",
       "         [0, 0, 0],\n",
       "         [0, 0, 0],\n",
       "         ...,\n",
       "         [0, 0, 0],\n",
       "         [0, 0, 0],\n",
       "         [0, 0, 0]],\n",
       "\n",
       "        [[0, 0, 0],\n",
       "         [0, 0, 0],\n",
       "         [0, 0, 0],\n",
       "         ...,\n",
       "         [0, 0, 0],\n",
       "         [0, 0, 0],\n",
       "         [0, 0, 0]],\n",
       "\n",
       "        [[0, 0, 0],\n",
       "         [0, 0, 0],\n",
       "         [0, 0, 0],\n",
       "         ...,\n",
       "         [0, 0, 0],\n",
       "         [0, 0, 0],\n",
       "         [0, 0, 0]]],\n",
       "\n",
       "\n",
       "       [[[0, 0, 0],\n",
       "         [0, 0, 0],\n",
       "         [0, 0, 0],\n",
       "         ...,\n",
       "         [0, 0, 0],\n",
       "         [0, 0, 0],\n",
       "         [0, 0, 0]],\n",
       "\n",
       "        [[0, 0, 0],\n",
       "         [0, 0, 0],\n",
       "         [0, 0, 0],\n",
       "         ...,\n",
       "         [0, 0, 0],\n",
       "         [0, 0, 0],\n",
       "         [0, 0, 0]],\n",
       "\n",
       "        [[0, 0, 0],\n",
       "         [0, 0, 0],\n",
       "         [0, 0, 0],\n",
       "         ...,\n",
       "         [0, 0, 0],\n",
       "         [0, 0, 0],\n",
       "         [0, 0, 0]],\n",
       "\n",
       "        ...,\n",
       "\n",
       "        [[0, 0, 0],\n",
       "         [0, 0, 0],\n",
       "         [0, 0, 0],\n",
       "         ...,\n",
       "         [0, 0, 0],\n",
       "         [0, 0, 0],\n",
       "         [0, 0, 0]],\n",
       "\n",
       "        [[0, 0, 0],\n",
       "         [0, 0, 0],\n",
       "         [0, 0, 0],\n",
       "         ...,\n",
       "         [0, 0, 0],\n",
       "         [0, 0, 0],\n",
       "         [0, 0, 0]],\n",
       "\n",
       "        [[0, 0, 0],\n",
       "         [0, 0, 0],\n",
       "         [0, 0, 0],\n",
       "         ...,\n",
       "         [0, 0, 0],\n",
       "         [0, 0, 0],\n",
       "         [0, 0, 0]]],\n",
       "\n",
       "\n",
       "       [[[0, 0, 0],\n",
       "         [0, 0, 0],\n",
       "         [0, 0, 0],\n",
       "         ...,\n",
       "         [0, 0, 0],\n",
       "         [0, 0, 0],\n",
       "         [0, 0, 0]],\n",
       "\n",
       "        [[0, 0, 0],\n",
       "         [0, 0, 0],\n",
       "         [0, 0, 0],\n",
       "         ...,\n",
       "         [0, 0, 0],\n",
       "         [0, 0, 0],\n",
       "         [0, 0, 0]],\n",
       "\n",
       "        [[0, 0, 0],\n",
       "         [0, 0, 0],\n",
       "         [0, 0, 0],\n",
       "         ...,\n",
       "         [0, 0, 0],\n",
       "         [0, 0, 0],\n",
       "         [0, 0, 0]],\n",
       "\n",
       "        ...,\n",
       "\n",
       "        [[0, 0, 0],\n",
       "         [0, 0, 0],\n",
       "         [0, 0, 0],\n",
       "         ...,\n",
       "         [0, 0, 0],\n",
       "         [0, 0, 0],\n",
       "         [0, 0, 0]],\n",
       "\n",
       "        [[0, 0, 0],\n",
       "         [0, 0, 0],\n",
       "         [0, 0, 0],\n",
       "         ...,\n",
       "         [0, 0, 0],\n",
       "         [0, 0, 0],\n",
       "         [0, 0, 0]],\n",
       "\n",
       "        [[0, 0, 0],\n",
       "         [0, 0, 0],\n",
       "         [0, 0, 0],\n",
       "         ...,\n",
       "         [0, 0, 0],\n",
       "         [0, 0, 0],\n",
       "         [0, 0, 0]]],\n",
       "\n",
       "\n",
       "       ...,\n",
       "\n",
       "\n",
       "       [[[0, 0, 0],\n",
       "         [0, 0, 0],\n",
       "         [0, 0, 0],\n",
       "         ...,\n",
       "         [0, 0, 0],\n",
       "         [0, 0, 0],\n",
       "         [0, 0, 0]],\n",
       "\n",
       "        [[0, 0, 0],\n",
       "         [0, 0, 0],\n",
       "         [0, 0, 0],\n",
       "         ...,\n",
       "         [0, 0, 0],\n",
       "         [0, 0, 0],\n",
       "         [0, 0, 0]],\n",
       "\n",
       "        [[0, 0, 0],\n",
       "         [0, 0, 0],\n",
       "         [0, 0, 0],\n",
       "         ...,\n",
       "         [0, 0, 0],\n",
       "         [0, 0, 0],\n",
       "         [0, 0, 0]],\n",
       "\n",
       "        ...,\n",
       "\n",
       "        [[0, 0, 0],\n",
       "         [0, 0, 0],\n",
       "         [0, 0, 0],\n",
       "         ...,\n",
       "         [0, 0, 0],\n",
       "         [0, 0, 0],\n",
       "         [0, 0, 0]],\n",
       "\n",
       "        [[0, 0, 0],\n",
       "         [0, 0, 0],\n",
       "         [0, 0, 0],\n",
       "         ...,\n",
       "         [0, 0, 0],\n",
       "         [0, 0, 0],\n",
       "         [0, 0, 0]],\n",
       "\n",
       "        [[0, 0, 0],\n",
       "         [0, 0, 0],\n",
       "         [0, 0, 0],\n",
       "         ...,\n",
       "         [0, 0, 0],\n",
       "         [0, 0, 0],\n",
       "         [0, 0, 0]]],\n",
       "\n",
       "\n",
       "       [[[0, 0, 0],\n",
       "         [0, 0, 0],\n",
       "         [0, 0, 0],\n",
       "         ...,\n",
       "         [0, 0, 0],\n",
       "         [0, 0, 0],\n",
       "         [0, 0, 0]],\n",
       "\n",
       "        [[0, 0, 0],\n",
       "         [0, 0, 0],\n",
       "         [0, 0, 0],\n",
       "         ...,\n",
       "         [0, 0, 0],\n",
       "         [0, 0, 0],\n",
       "         [0, 0, 0]],\n",
       "\n",
       "        [[0, 0, 0],\n",
       "         [0, 0, 0],\n",
       "         [0, 0, 0],\n",
       "         ...,\n",
       "         [0, 0, 0],\n",
       "         [0, 0, 0],\n",
       "         [0, 0, 0]],\n",
       "\n",
       "        ...,\n",
       "\n",
       "        [[0, 0, 0],\n",
       "         [0, 0, 0],\n",
       "         [0, 0, 0],\n",
       "         ...,\n",
       "         [0, 0, 0],\n",
       "         [0, 0, 0],\n",
       "         [0, 0, 0]],\n",
       "\n",
       "        [[0, 0, 0],\n",
       "         [0, 0, 0],\n",
       "         [0, 0, 0],\n",
       "         ...,\n",
       "         [0, 0, 0],\n",
       "         [0, 0, 0],\n",
       "         [0, 0, 0]],\n",
       "\n",
       "        [[0, 0, 0],\n",
       "         [0, 0, 0],\n",
       "         [0, 0, 0],\n",
       "         ...,\n",
       "         [0, 0, 0],\n",
       "         [0, 0, 0],\n",
       "         [0, 0, 0]]],\n",
       "\n",
       "\n",
       "       [[[0, 0, 0],\n",
       "         [0, 0, 0],\n",
       "         [0, 0, 0],\n",
       "         ...,\n",
       "         [0, 0, 0],\n",
       "         [0, 0, 0],\n",
       "         [0, 0, 0]],\n",
       "\n",
       "        [[0, 0, 0],\n",
       "         [0, 0, 0],\n",
       "         [0, 0, 0],\n",
       "         ...,\n",
       "         [0, 0, 0],\n",
       "         [0, 0, 0],\n",
       "         [0, 0, 0]],\n",
       "\n",
       "        [[0, 0, 0],\n",
       "         [0, 0, 0],\n",
       "         [0, 0, 0],\n",
       "         ...,\n",
       "         [0, 0, 0],\n",
       "         [0, 0, 0],\n",
       "         [0, 0, 0]],\n",
       "\n",
       "        ...,\n",
       "\n",
       "        [[0, 0, 0],\n",
       "         [0, 0, 0],\n",
       "         [0, 0, 0],\n",
       "         ...,\n",
       "         [0, 0, 0],\n",
       "         [0, 0, 0],\n",
       "         [0, 0, 0]],\n",
       "\n",
       "        [[0, 0, 0],\n",
       "         [0, 0, 0],\n",
       "         [0, 0, 0],\n",
       "         ...,\n",
       "         [0, 0, 0],\n",
       "         [0, 0, 0],\n",
       "         [0, 0, 0]],\n",
       "\n",
       "        [[0, 0, 0],\n",
       "         [0, 0, 0],\n",
       "         [0, 0, 0],\n",
       "         ...,\n",
       "         [0, 0, 0],\n",
       "         [0, 0, 0],\n",
       "         [0, 0, 0]]]], dtype=uint8)"
      ]
     },
     "execution_count": 12,
     "metadata": {
      "tags": []
     },
     "output_type": "execute_result"
    }
   ],
   "source": [
    "X_train"
   ]
  },
  {
   "cell_type": "code",
   "execution_count": null,
   "metadata": {
    "colab": {},
    "colab_type": "code",
    "id": "ww_7A7kt_dBV",
    "outputId": "5fd2ff82-04f0-4f88-acc5-464923728cc6"
   },
   "outputs": [
    {
     "data": {
      "text/plain": [
       "array([3, 2, 1, ..., 3, 3, 2])"
      ]
     },
     "execution_count": 13,
     "metadata": {
      "tags": []
     },
     "output_type": "execute_result"
    }
   ],
   "source": [
    "y_train"
   ]
  },
  {
   "cell_type": "code",
   "execution_count": null,
   "metadata": {
    "colab": {},
    "colab_type": "code",
    "id": "97Dkjmp6_dBW"
   },
   "outputs": [],
   "source": [
    "# Normalized the data images to the range of [0, 1]. \n",
    "# Because the value of the RGB varies from 0 to 255, since it requires precisely one byte of data. \n",
    "# One byte is equivalent to 8 bytes, and each bit indicates either a 0 or a 1 \n",
    "# and we divide all train and test images by 255 to simplify the vector procedures.\n",
    "\n",
    "X_train = X_train/255\n",
    "X_test = X_test/255\n",
    "\n",
    "\n",
    "#Make a flattened version for some of our models\n",
    "X_flat_train = X_train.reshape(X_train.shape[0], 45*45*3)\n",
    "X_flat_test = X_test.reshape(X_test.shape[0], 45*45*3)\n"
   ]
  },
  {
   "cell_type": "code",
   "execution_count": null,
   "metadata": {
    "colab": {},
    "colab_type": "code",
    "id": "5e4qjmVr_dBY",
    "outputId": "f3b5163b-1149-47f3-b06b-5550d9930e46"
   },
   "outputs": [
    {
     "data": {
      "text/plain": [
       "array([3, 2, 1, ..., 3, 3, 2])"
      ]
     },
     "execution_count": 15,
     "metadata": {
      "tags": []
     },
     "output_type": "execute_result"
    }
   ],
   "source": [
    "y_train"
   ]
  },
  {
   "cell_type": "code",
   "execution_count": null,
   "metadata": {
    "colab": {},
    "colab_type": "code",
    "id": "-K0c-cWS_dBa",
    "outputId": "fb315fd5-8905-4011-ddb0-35f7c67307d7"
   },
   "outputs": [
    {
     "name": "stdout",
     "output_type": "stream",
     "text": [
      "Original Sizes: (4480, 45, 45, 3) (1920, 45, 45, 3) (4480, 4) (1920, 4)\n",
      "Flattened: (4480, 6075) (1920, 6075)\n"
     ]
    }
   ],
   "source": [
    "# #One Hot Encode the Output\n",
    "# One-hot encoding are a way for the model to understand that we're looking at categorical instead of continuous data.\n",
    "# since that is the format required by Keras to perform multiclass classification. \n",
    "# It transforms the integer to a sequence of all zeros at the integer index save for a 1. \n",
    "# When the above step was finished, we had to hot encode our data by using the to categorical() function \n",
    "# since we have multi-class results(0–3:4 output).\n",
    "# In our case, this effectively transforms a class vector (integers) to a binary type matrix \n",
    "# for categorical_crossentropy use\n",
    "\n",
    "y_train = keras.utils.to_categorical(y_train, 4)\n",
    "y_test = keras.utils.to_categorical(y_test, 4)\n",
    "\n",
    "print('Original Sizes:', X_train.shape, X_test.shape, y_train.shape, y_test.shape)\n",
    "print('Flattened:', X_flat_train.shape, X_flat_test.shape)"
   ]
  },
  {
   "cell_type": "code",
   "execution_count": null,
   "metadata": {
    "colab": {},
    "colab_type": "code",
    "id": "LsZiAE_W_dBb",
    "outputId": "6c123070-3461-482c-fb5b-fdff005e5f30"
   },
   "outputs": [
    {
     "name": "stdout",
     "output_type": "stream",
     "text": [
      "(45, 45, 3)\n"
     ]
    },
    {
     "data": {
      "image/png": "[encoded data removed]",
      "text/plain": [
       "<Figure size 432x288 with 1 Axes>"
      ]
     },
     "metadata": {
      "needs_background": "light",
      "tags": []
     },
     "output_type": "display_data"
    }
   ],
   "source": [
    "print(X_train[0].shape)\n",
    "plt.imshow(X_train[0])\n",
    "plt.show()\n"
   ]
  },
  {
   "cell_type": "code",
   "execution_count": null,
   "metadata": {
    "colab": {},
    "colab_type": "code",
    "id": "mLxawSqY_dBd"
   },
   "outputs": [],
   "source": [
    "#Here we have Imported the necessary libraries for CNN\n",
    "\n",
    "from keras.models import Sequential\n",
    "from keras.layers import Dense, Dropout, Flatten, Conv2D, MaxPooling2D\n",
    "from keras.layers import LSTM, Input, TimeDistributed\n",
    "from keras.models import Model\n",
    "from keras.optimizers import RMSprop, SGD\n",
    "\n",
    "# Import the backend\n",
    "from keras import backend as K"
   ]
  },
  {
   "cell_type": "markdown",
   "metadata": {
    "colab_type": "text",
    "id": "MO74Khmt_dBe"
   },
   "source": [
    "# CNN (convolutional Neural Network) Model "
   ]
  },
  {
   "cell_type": "code",
   "execution_count": null,
   "metadata": {
    "colab": {},
    "colab_type": "code",
    "id": "JCm6ASq5_dBe",
    "outputId": "a0da846f-a105-4602-bec1-2b7713729266",
    "scrolled": false
   },
   "outputs": [
    {
     "name": "stdout",
     "output_type": "stream",
     "text": [
      "Train on 4480 samples, validate on 1920 samples\n",
      "Epoch 1/20\n",
      "4480/4480 [==============================] - 26s 6ms/step - loss: 1.1794 - accuracy: 0.4775 - val_loss: 1.0134 - val_accuracy: 0.5094\n",
      "Epoch 2/20\n",
      "4480/4480 [==============================] - 25s 6ms/step - loss: 1.0348 - accuracy: 0.4828 - val_loss: 1.0472 - val_accuracy: 0.5094\n",
      "Epoch 3/20\n",
      "4480/4480 [==============================] - 25s 6ms/step - loss: 1.0034 - accuracy: 0.5174 - val_loss: 0.9565 - val_accuracy: 0.5115\n",
      "Epoch 4/20\n",
      "4480/4480 [==============================] - 21s 5ms/step - loss: 0.9722 - accuracy: 0.5420 - val_loss: 0.9572 - val_accuracy: 0.5510\n",
      "Epoch 5/20\n",
      "4480/4480 [==============================] - 17s 4ms/step - loss: 0.9199 - accuracy: 0.5797 - val_loss: 0.8561 - val_accuracy: 0.5922\n",
      "Epoch 6/20\n",
      "4480/4480 [==============================] - 17s 4ms/step - loss: 0.8881 - accuracy: 0.5819 - val_loss: 0.8685 - val_accuracy: 0.5802\n",
      "Epoch 7/20\n",
      "4480/4480 [==============================] - 18s 4ms/step - loss: 0.8542 - accuracy: 0.6158 - val_loss: 0.7608 - val_accuracy: 0.6812\n",
      "Epoch 8/20\n",
      "4480/4480 [==============================] - 18s 4ms/step - loss: 0.8144 - accuracy: 0.6366 - val_loss: 0.7305 - val_accuracy: 0.6833\n",
      "Epoch 9/20\n",
      "4480/4480 [==============================] - 18s 4ms/step - loss: 0.7841 - accuracy: 0.6482 - val_loss: 0.7336 - val_accuracy: 0.6896\n",
      "Epoch 10/20\n",
      "4480/4480 [==============================] - 18s 4ms/step - loss: 0.7206 - accuracy: 0.6790 - val_loss: 0.6449 - val_accuracy: 0.7490\n",
      "Epoch 11/20\n",
      "4480/4480 [==============================] - 18s 4ms/step - loss: 0.6781 - accuracy: 0.7033 - val_loss: 0.5912 - val_accuracy: 0.7510\n",
      "Epoch 12/20\n",
      "4480/4480 [==============================] - 18s 4ms/step - loss: 0.6479 - accuracy: 0.7174 - val_loss: 0.6781 - val_accuracy: 0.7005\n",
      "Epoch 13/20\n",
      "4480/4480 [==============================] - 18s 4ms/step - loss: 0.5616 - accuracy: 0.7603 - val_loss: 0.5743 - val_accuracy: 0.7573\n",
      "Epoch 14/20\n",
      "4480/4480 [==============================] - 18s 4ms/step - loss: 0.5275 - accuracy: 0.7799 - val_loss: 0.4958 - val_accuracy: 0.8318\n",
      "Epoch 15/20\n",
      "4480/4480 [==============================] - 18s 4ms/step - loss: 0.4474 - accuracy: 0.8254 - val_loss: 0.6695 - val_accuracy: 0.6656\n",
      "Epoch 16/20\n",
      "4480/4480 [==============================] - 18s 4ms/step - loss: 0.4233 - accuracy: 0.8310 - val_loss: 0.3886 - val_accuracy: 0.8521\n",
      "Epoch 17/20\n",
      "4480/4480 [==============================] - 18s 4ms/step - loss: 0.3430 - accuracy: 0.8696 - val_loss: 0.3928 - val_accuracy: 0.8427\n",
      "Epoch 18/20\n",
      "4480/4480 [==============================] - 19s 4ms/step - loss: 0.3410 - accuracy: 0.8746 - val_loss: 0.5254 - val_accuracy: 0.7589\n",
      "Epoch 19/20\n",
      "4480/4480 [==============================] - 19s 4ms/step - loss: 0.2959 - accuracy: 0.8902 - val_loss: 0.3618 - val_accuracy: 0.8479\n",
      "Epoch 20/20\n",
      "4480/4480 [==============================] - 19s 4ms/step - loss: 0.2241 - accuracy: 0.9205 - val_loss: 0.2338 - val_accuracy: 0.9182\n",
      "Test loss: 0.2337857815126578\n",
      "Test accuracy: 0.9182291626930237\n"
     ]
    },
    {
     "data": {
      "image/png": "[encoded data removed]",
      "text/plain": [
       "<Figure size 432x288 with 1 Axes>"
      ]
     },
     "metadata": {
      "needs_background": "light",
      "tags": []
     },
     "output_type": "display_data"
    },
    {
     "data": {
      "image/png": "[encoded data removed]",
      "text/plain": [
       "<Figure size 432x288 with 1 Axes>"
      ]
     },
     "metadata": {
      "needs_background": "light",
      "tags": []
     },
     "output_type": "display_data"
    },
    {
     "name": "stdout",
     "output_type": "stream",
     "text": [
      "Model: \"sequential_33\"\n",
      "_________________________________________________________________\n",
      "Layer (type)                 Output Shape              Param #   \n",
      "=================================================================\n",
      "conv2d_11 (Conv2D)           (None, 43, 43, 32)        896       \n",
      "_________________________________________________________________\n",
      "conv2d_12 (Conv2D)           (None, 41, 41, 64)        18496     \n",
      "_________________________________________________________________\n",
      "max_pooling2d_6 (MaxPooling2 (None, 20, 20, 64)        0         \n",
      "_________________________________________________________________\n",
      "dropout_68 (Dropout)         (None, 20, 20, 64)        0         \n",
      "_________________________________________________________________\n",
      "flatten_25 (Flatten)         (None, 25600)             0         \n",
      "_________________________________________________________________\n",
      "dense_116 (Dense)            (None, 128)               3276928   \n",
      "_________________________________________________________________\n",
      "dropout_69 (Dropout)         (None, 128)               0         \n",
      "_________________________________________________________________\n",
      "dense_117 (Dense)            (None, 4)                 516       \n",
      "=================================================================\n",
      "Total params: 3,296,836\n",
      "Trainable params: 3,296,836\n",
      "Non-trainable params: 0\n",
      "_________________________________________________________________\n"
     ]
    }
   ],
   "source": [
    "model_cnn = Sequential()\n",
    "# This id our First convolutional layer, where we have given a specified Input MRI image Shape\n",
    "model_cnn.add(Conv2D(32, kernel_size=(3, 3), #Kernel size is 3\n",
    "                 activation='relu',\n",
    "                 input_shape=(45, 45, 3)))\n",
    "model_cnn.add(Conv2D(64, (3, 3), activation='relu'))\n",
    "model_cnn.add(MaxPooling2D(pool_size=(2, 2)))\n",
    "model_cnn.add(Dropout(0.25)) #Adding layers\n",
    "model_cnn.add(Flatten())\n",
    "model_cnn.add(Dense(128, activation='relu'))\n",
    "model_cnn.add(Dropout( 0.5))\n",
    "model_cnn.add(Dense(4, activation='softmax'))\n",
    "\n",
    "# Now here we are Compiling the model.\n",
    "\n",
    "model_cnn.compile(loss=keras.losses.categorical_crossentropy,\n",
    "              optimizer=keras.optimizers.Adadelta(), # Optimizer used here is adadelta\n",
    "              metrics=['accuracy'])\n",
    "\n",
    "# 128 MRI images propagated through the network and with 20 passes over the entire dataset\n",
    "\n",
    "history= model_cnn.fit(X_train, y_train,\n",
    "          batch_size=128,\n",
    "          epochs=20,\n",
    "          verbose=1,\n",
    "          validation_data=(X_test, y_test))\n",
    "score = model_cnn.evaluate(X_test, y_test, verbose=0)\n",
    "print('Test loss:', score[0])\n",
    "print('Test accuracy:', score[1]) # Print output values\n",
    "\n",
    "#Here we have plotted the accuracy and the loss curve for the CNN \n",
    "plt.plot(history.history['accuracy'])\n",
    "plt.plot(history.history['val_accuracy'])\n",
    "plt.title('CNN accuracy')\n",
    "plt.ylabel('accuracy') # Set y-axis label as 'accuracy'.\n",
    "plt.xlabel('epoch') # Set x-axis label as 'epoch'.\n",
    "plt.legend(['train', 'val'], loc='upper left')\n",
    "plt.show() # Plot graph\n",
    "\n",
    "plt.plot(history.history['loss'])\n",
    "plt.plot(history.history['val_loss'])\n",
    "plt.title('CNN loss')\n",
    "plt.ylabel('loss') # Set y-axis label as 'loss'.\n",
    "plt.xlabel('epoch') # Set x-axis label as 'epoch'.\n",
    "plt.legend(['train', 'val'], loc='upper left')\n",
    "plt.show() # Plot graph\n",
    "\n",
    "model_cnn.summary() # Model sequential_33"
   ]
  },
  {
   "cell_type": "markdown",
   "metadata": {},
   "source": [
    "# ANN (Artificial Neural Network) Model \n"
   ]
  },
  {
   "cell_type": "code",
   "execution_count": null,
   "metadata": {
    "colab": {},
    "colab_type": "code",
    "id": "xXe4HelD_dBg",
    "outputId": "ffb9ee47-3cf3-402e-be9c-5e1b99edf97b",
    "scrolled": false
   },
   "outputs": [
    {
     "name": "stdout",
     "output_type": "stream",
     "text": [
      "Train on 3136 samples, validate on 1344 samples\n",
      "Epoch 1/50\n",
      "3136/3136 [==============================] - 6s 2ms/step - loss: 1.1927 - accuracy: 0.4515 - val_loss: 1.0117 - val_accuracy: 0.4821\n",
      "Epoch 2/50\n",
      "3136/3136 [==============================] - 3s 900us/step - loss: 1.0612 - accuracy: 0.4876 - val_loss: 0.9945 - val_accuracy: 0.4814\n",
      "Epoch 3/50\n",
      "3136/3136 [==============================] - 3s 915us/step - loss: 1.0354 - accuracy: 0.4981 - val_loss: 0.9611 - val_accuracy: 0.5060\n",
      "Epoch 4/50\n",
      "3136/3136 [==============================] - 3s 987us/step - loss: 1.0167 - accuracy: 0.5105 - val_loss: 0.9848 - val_accuracy: 0.5246\n",
      "Epoch 5/50\n",
      "3136/3136 [==============================] - 3s 866us/step - loss: 0.9920 - accuracy: 0.5290 - val_loss: 1.0712 - val_accuracy: 0.4963\n",
      "Epoch 6/50\n",
      "3136/3136 [==============================] - 3s 863us/step - loss: 0.9761 - accuracy: 0.5309 - val_loss: 0.9251 - val_accuracy: 0.5156\n",
      "Epoch 7/50\n",
      "3136/3136 [==============================] - 3s 938us/step - loss: 0.9604 - accuracy: 0.5453 - val_loss: 0.9603 - val_accuracy: 0.5052\n",
      "Epoch 8/50\n",
      "3136/3136 [==============================] - 3s 1ms/step - loss: 0.9531 - accuracy: 0.5418 - val_loss: 0.8963 - val_accuracy: 0.5432\n",
      "Epoch 9/50\n",
      "3136/3136 [==============================] - 3s 946us/step - loss: 0.9378 - accuracy: 0.5561 - val_loss: 1.0055 - val_accuracy: 0.5089\n",
      "Epoch 10/50\n",
      "3136/3136 [==============================] - 3s 1ms/step - loss: 0.9228 - accuracy: 0.5552 - val_loss: 0.9589 - val_accuracy: 0.5097\n",
      "Epoch 11/50\n",
      "3136/3136 [==============================] - 3s 878us/step - loss: 0.9127 - accuracy: 0.5558 - val_loss: 0.8682 - val_accuracy: 0.5662\n",
      "Epoch 12/50\n",
      "3136/3136 [==============================] - 3s 860us/step - loss: 0.9034 - accuracy: 0.5686 - val_loss: 0.8752 - val_accuracy: 0.5409\n",
      "Epoch 13/50\n",
      "3136/3136 [==============================] - 3s 909us/step - loss: 0.9073 - accuracy: 0.5730 - val_loss: 0.9233 - val_accuracy: 0.5350\n",
      "Epoch 14/50\n",
      "3136/3136 [==============================] - 3s 936us/step - loss: 0.8853 - accuracy: 0.5848 - val_loss: 0.8888 - val_accuracy: 0.5766\n",
      "Epoch 15/50\n",
      "3136/3136 [==============================] - 3s 982us/step - loss: 0.8650 - accuracy: 0.5877 - val_loss: 0.8672 - val_accuracy: 0.5528\n",
      "Epoch 16/50\n",
      "3136/3136 [==============================] - 3s 895us/step - loss: 0.8815 - accuracy: 0.5890 - val_loss: 0.8942 - val_accuracy: 0.6079\n",
      "Epoch 17/50\n",
      "3136/3136 [==============================] - 3s 890us/step - loss: 0.8650 - accuracy: 0.5989 - val_loss: 0.9715 - val_accuracy: 0.5632\n",
      "Epoch 18/50\n",
      "3136/3136 [==============================] - 3s 876us/step - loss: 0.8548 - accuracy: 0.5953 - val_loss: 0.8174 - val_accuracy: 0.5960\n",
      "Epoch 19/50\n",
      "3136/3136 [==============================] - 3s 921us/step - loss: 0.8462 - accuracy: 0.5992 - val_loss: 0.8234 - val_accuracy: 0.6391\n",
      "Epoch 20/50\n",
      "3136/3136 [==============================] - 3s 904us/step - loss: 0.8471 - accuracy: 0.6033 - val_loss: 0.8053 - val_accuracy: 0.6094\n",
      "Epoch 21/50\n",
      "3136/3136 [==============================] - 3s 999us/step - loss: 0.8235 - accuracy: 0.6129 - val_loss: 0.8680 - val_accuracy: 0.5878\n",
      "Epoch 22/50\n",
      "3136/3136 [==============================] - 3s 899us/step - loss: 0.8193 - accuracy: 0.6218 - val_loss: 0.8120 - val_accuracy: 0.6354\n",
      "Epoch 23/50\n",
      "3136/3136 [==============================] - 3s 867us/step - loss: 0.8193 - accuracy: 0.6145 - val_loss: 0.8201 - val_accuracy: 0.6131\n",
      "Epoch 24/50\n",
      "3136/3136 [==============================] - 3s 914us/step - loss: 0.8164 - accuracy: 0.6260 - val_loss: 0.7930 - val_accuracy: 0.6161\n",
      "Epoch 25/50\n",
      "3136/3136 [==============================] - 3s 942us/step - loss: 0.8118 - accuracy: 0.6390 - val_loss: 0.7607 - val_accuracy: 0.6629\n",
      "Epoch 26/50\n",
      "3136/3136 [==============================] - 3s 1ms/step - loss: 0.7973 - accuracy: 0.6368 - val_loss: 0.7498 - val_accuracy: 0.6399\n",
      "Epoch 27/50\n",
      "3136/3136 [==============================] - 3s 942us/step - loss: 0.7832 - accuracy: 0.6515 - val_loss: 0.7642 - val_accuracy: 0.6384\n",
      "Epoch 28/50\n",
      "3136/3136 [==============================] - 3s 877us/step - loss: 0.7742 - accuracy: 0.6556 - val_loss: 0.7415 - val_accuracy: 0.6853\n",
      "Epoch 29/50\n",
      "3136/3136 [==============================] - 3s 910us/step - loss: 0.7744 - accuracy: 0.6499 - val_loss: 0.8742 - val_accuracy: 0.5804\n",
      "Epoch 30/50\n",
      "3136/3136 [==============================] - 3s 1ms/step - loss: 0.7636 - accuracy: 0.6671 - val_loss: 0.7974 - val_accuracy: 0.5982\n",
      "Epoch 31/50\n",
      "3136/3136 [==============================] - 3s 980us/step - loss: 0.7662 - accuracy: 0.6604 - val_loss: 0.7483 - val_accuracy: 0.6473s:\n",
      "Epoch 32/50\n",
      "3136/3136 [==============================] - 3s 1ms/step - loss: 0.7454 - accuracy: 0.6722 - val_loss: 0.7202 - val_accuracy: 0.6682\n",
      "Epoch 33/50\n",
      "3136/3136 [==============================] - 3s 923us/step - loss: 0.7483 - accuracy: 0.6668 - val_loss: 0.7713 - val_accuracy: 0.6369\n",
      "Epoch 34/50\n",
      "3136/3136 [==============================] - 3s 906us/step - loss: 0.7473 - accuracy: 0.6607 - val_loss: 0.7247 - val_accuracy: 0.6979\n",
      "Epoch 35/50\n",
      "3136/3136 [==============================] - 3s 938us/step - loss: 0.7335 - accuracy: 0.6798 - val_loss: 0.6992 - val_accuracy: 0.6853\n",
      "Epoch 36/50\n",
      "3136/3136 [==============================] - 3s 924us/step - loss: 0.7276 - accuracy: 0.6865 - val_loss: 0.8396 - val_accuracy: 0.5789\n",
      "Epoch 37/50\n",
      "3136/3136 [==============================] - 3s 935us/step - loss: 0.7121 - accuracy: 0.6869 - val_loss: 0.6970 - val_accuracy: 0.6979\n",
      "Epoch 38/50\n",
      "3136/3136 [==============================] - 3s 886us/step - loss: 0.7320 - accuracy: 0.6738 - val_loss: 0.6802 - val_accuracy: 0.7039\n",
      "Epoch 39/50\n",
      "3136/3136 [==============================] - 3s 872us/step - loss: 0.7153 - accuracy: 0.6907 - val_loss: 0.7519 - val_accuracy: 0.6667\n",
      "Epoch 40/50\n",
      "3136/3136 [==============================] - 3s 866us/step - loss: 0.7468 - accuracy: 0.6629 - val_loss: 0.7758 - val_accuracy: 0.6235\n",
      "Epoch 41/50\n",
      "3136/3136 [==============================] - 3s 930us/step - loss: 0.7181 - accuracy: 0.6773 - val_loss: 0.6952 - val_accuracy: 0.6696\n",
      "Epoch 42/50\n",
      "3136/3136 [==============================] - 3s 967us/step - loss: 0.7191 - accuracy: 0.6939 - val_loss: 0.7823 - val_accuracy: 0.6250\n",
      "Epoch 43/50\n",
      "3136/3136 [==============================] - 3s 968us/step - loss: 0.7189 - accuracy: 0.6846 - val_loss: 0.8129 - val_accuracy: 0.5945\n",
      "Epoch 44/50\n",
      "3136/3136 [==============================] - 3s 853us/step - loss: 0.7011 - accuracy: 0.6821 - val_loss: 0.7887 - val_accuracy: 0.6347\n",
      "Epoch 45/50\n",
      "3136/3136 [==============================] - 3s 869us/step - loss: 0.7283 - accuracy: 0.6916 - val_loss: 0.6869 - val_accuracy: 0.6972\n",
      "Epoch 46/50\n",
      "3136/3136 [==============================] - 3s 904us/step - loss: 0.6913 - accuracy: 0.6897 - val_loss: 0.6524 - val_accuracy: 0.7001\n",
      "Epoch 47/50\n",
      "3136/3136 [==============================] - 3s 900us/step - loss: 0.6954 - accuracy: 0.7012 - val_loss: 0.8817 - val_accuracy: 0.5536\n",
      "Epoch 48/50\n",
      "3136/3136 [==============================] - 4s 1ms/step - loss: 0.6815 - accuracy: 0.6990 - val_loss: 0.6622 - val_accuracy: 0.7083\n",
      "Epoch 49/50\n",
      "3136/3136 [==============================] - 3s 960us/step - loss: 0.6895 - accuracy: 0.7041 - val_loss: 0.6924 - val_accuracy: 0.7009\n",
      "Epoch 50/50\n",
      "3136/3136 [==============================] - 3s 880us/step - loss: 0.6999 - accuracy: 0.7015 - val_loss: 0.6539 - val_accuracy: 0.7403\n",
      "(4480, 45, 45, 3)\n",
      "Test loss: 0.6316938569148381\n",
      "Test accuracy: 0.75\n"
     ]
    },
    {
     "data": {
      "image/png": "[encoded data removed]",
      "text/plain": [
       "<Figure size 432x288 with 1 Axes>"
      ]
     },
     "metadata": {
      "needs_background": "light",
      "tags": []
     },
     "output_type": "display_data"
    },
    {
     "data": {
      "image/png": "[encoded data removed]",
      "text/plain": [
       "<Figure size 432x288 with 1 Axes>"
      ]
     },
     "metadata": {
      "needs_background": "light",
      "tags": []
     },
     "output_type": "display_data"
    },
    {
     "name": "stdout",
     "output_type": "stream",
     "text": [
      "Model: \"sequential_30\"\n",
      "_________________________________________________________________\n",
      "Layer (type)                 Output Shape              Param #   \n",
      "=================================================================\n",
      "dropout_62 (Dropout)         (None, 45, 45, 3)         0         \n",
      "_________________________________________________________________\n",
      "flatten_22 (Flatten)         (None, 6075)              0         \n",
      "_________________________________________________________________\n",
      "dense_109 (Dense)            (None, 128)               777728    \n",
      "_________________________________________________________________\n",
      "dense_110 (Dense)            (None, 64)                8256      \n",
      "_________________________________________________________________\n",
      "dropout_63 (Dropout)         (None, 64)                0         \n",
      "_________________________________________________________________\n",
      "dense_111 (Dense)            (None, 4)                 260       \n",
      "=================================================================\n",
      "Total params: 786,244\n",
      "Trainable params: 786,244\n",
      "Non-trainable params: 0\n",
      "_________________________________________________________________\n"
     ]
    }
   ],
   "source": [
    "# This step creates an ANN model.\n",
    "modelann = keras.models.Sequential() #define model ANN\n",
    "modelann.add(Dropout(0.25))\n",
    "modelann.add(Flatten()) # Add layers\n",
    "modelann.add(Dense(128, activation='relu'))\n",
    "modelann.add(Dense(64, activation='relu')) \n",
    "modelann.add(Dropout(0.5))\n",
    "modelann.add(Dense(4, activation='softmax'))\n",
    "# Now here we are Compiling the model.\n",
    "modelann.compile(loss=keras.losses.categorical_crossentropy,\n",
    "              optimizer=keras.optimizers.Adadelta(), # Optimizer used here is Adadelta\n",
    "              metrics=['accuracy'])\n",
    "\n",
    "\n",
    "# 32 MRI images are propagated through the network and with 50 passes over the entire dataset\n",
    "\n",
    "history= modelann.fit(X_train, y_train,\n",
    "          batch_size=32,\n",
    "          epochs=50,\n",
    "          verbose=1, \n",
    "          validation_split=(0.3)) # Split 30:70\n",
    "score = modelann.evaluate(X_test, y_test, verbose=0)\n",
    "print(X_train.shape)\n",
    "print('Test loss:', score[0])\n",
    "print('Test accuracy:', score[1]) # Output loss and accuracy values.\n",
    "\n",
    "#Here we have plotted the accuracy and the loss curve for the ANN as follows.\n",
    "plt.plot(history.history['accuracy']). # Display catogories of each curve.\n",
    "plt.plot(history.history['val_accuracy'])\n",
    "plt.title('ANN accuracy') # Set title of the graph.\n",
    "plt.ylabel('accuracy')  # Set y-axis label as 'accuracy'.\n",
    "plt.xlabel('epoch') # Set x-axis label as 'epoch'.\n",
    "plt.legend(['train', 'val'], loc='upper left')\n",
    "plt.show()\n",
    "\n",
    "plt.plot(history.history['loss'])\n",
    "plt.plot(history.history['val_loss']) # Display catogories of each curve.\n",
    "plt.title('ANN loss') # Set title of the graph.\n",
    "plt.ylabel('loss') # Set y-axis label as 'loss'.\n",
    "plt.xlabel('epoch') # Set x-axis label as 'epoch'.\n",
    "plt.legend(['train', 'val'], loc='upper left')\n",
    "plt.show()\n",
    "\n",
    "modelann.summary() #Generates summary of ANN model.\n"
   ]
  },
  {
   "cell_type": "markdown",
   "metadata": {},
   "source": [
    "# Multi layer neural network with 5 hidden layers\n"
   ]
  },
  {
   "cell_type": "code",
   "execution_count": null,
   "metadata": {
    "colab": {},
    "colab_type": "code",
    "id": "6TFlmaGP_dBh",
    "outputId": "abdc15eb-82e9-4120-bf12-cdd1bfce37d4",
    "scrolled": false
   },
   "outputs": [
    {
     "name": "stdout",
     "output_type": "stream",
     "text": [
      "Model: \"sequential_9\"\n",
      "_________________________________________________________________\n",
      "Layer (type)                 Output Shape              Param #   \n",
      "=================================================================\n",
      "dense_46 (Dense)             (None, 256)               1555456   \n",
      "_________________________________________________________________\n",
      "dropout_36 (Dropout)         (None, 256)               0         \n",
      "_________________________________________________________________\n",
      "dense_47 (Dense)             (None, 128)               32896     \n",
      "_________________________________________________________________\n",
      "dropout_37 (Dropout)         (None, 128)               0         \n",
      "_________________________________________________________________\n",
      "dense_48 (Dense)             (None, 128)               16512     \n",
      "_________________________________________________________________\n",
      "dropout_38 (Dropout)         (None, 128)               0         \n",
      "_________________________________________________________________\n",
      "dense_49 (Dense)             (None, 128)               16512     \n",
      "_________________________________________________________________\n",
      "dropout_39 (Dropout)         (None, 128)               0         \n",
      "_________________________________________________________________\n",
      "dense_50 (Dense)             (None, 128)               16512     \n",
      "_________________________________________________________________\n",
      "dropout_40 (Dropout)         (None, 128)               0         \n",
      "_________________________________________________________________\n",
      "dense_51 (Dense)             (None, 4)                 516       \n",
      "=================================================================\n",
      "Total params: 1,638,404\n",
      "Trainable params: 1,638,404\n",
      "Non-trainable params: 0\n",
      "_________________________________________________________________\n",
      "Train on 4480 samples, validate on 1920 samples\n",
      "Epoch 1/30\n",
      "4480/4480 [==============================] - 4s 837us/step - loss: 1.1088 - accuracy: 0.4654 - val_loss: 0.9945 - val_accuracy: 0.5094\n",
      "Epoch 2/30\n",
      "4480/4480 [==============================] - 4s 783us/step - loss: 0.9956 - accuracy: 0.5094 - val_loss: 0.9747 - val_accuracy: 0.5302\n",
      "Epoch 3/30\n",
      "4480/4480 [==============================] - 3s 780us/step - loss: 0.9665 - accuracy: 0.5214 - val_loss: 0.8932 - val_accuracy: 0.5573\n",
      "Epoch 4/30\n",
      "4480/4480 [==============================] - 4s 784us/step - loss: 0.9400 - accuracy: 0.5400 - val_loss: 0.8644 - val_accuracy: 0.5786\n",
      "Epoch 5/30\n",
      "4480/4480 [==============================] - 4s 784us/step - loss: 0.9160 - accuracy: 0.5375 - val_loss: 0.8682 - val_accuracy: 0.5786\n",
      "Epoch 6/30\n",
      "4480/4480 [==============================] - 4s 790us/step - loss: 0.9078 - accuracy: 0.5509 - val_loss: 0.8821 - val_accuracy: 0.5536\n",
      "Epoch 7/30\n",
      "4480/4480 [==============================] - 3s 768us/step - loss: 0.8923 - accuracy: 0.5623 - val_loss: 0.9082 - val_accuracy: 0.5224\n",
      "Epoch 8/30\n",
      "4480/4480 [==============================] - 4s 800us/step - loss: 0.8734 - accuracy: 0.5605 - val_loss: 0.8102 - val_accuracy: 0.5911\n",
      "Epoch 9/30\n",
      "4480/4480 [==============================] - 4s 810us/step - loss: 0.8804 - accuracy: 0.5592 - val_loss: 0.8059 - val_accuracy: 0.5943\n",
      "Epoch 10/30\n",
      "4480/4480 [==============================] - 3s 777us/step - loss: 0.8550 - accuracy: 0.5895 - val_loss: 0.8968 - val_accuracy: 0.5703\n",
      "Epoch 11/30\n",
      "4480/4480 [==============================] - 3s 757us/step - loss: 0.8531 - accuracy: 0.5906 - val_loss: 0.8290 - val_accuracy: 0.6182\n",
      "Epoch 12/30\n",
      "4480/4480 [==============================] - 4s 798us/step - loss: 0.8435 - accuracy: 0.6002 - val_loss: 0.8291 - val_accuracy: 0.6089\n",
      "Epoch 13/30\n",
      "4480/4480 [==============================] - 3s 770us/step - loss: 0.8186 - accuracy: 0.6121 - val_loss: 0.7585 - val_accuracy: 0.6359\n",
      "Epoch 14/30\n",
      "4480/4480 [==============================] - 3s 770us/step - loss: 0.8086 - accuracy: 0.6199 - val_loss: 0.7780 - val_accuracy: 0.6052\n",
      "Epoch 15/30\n",
      "4480/4480 [==============================] - 3s 780us/step - loss: 0.8035 - accuracy: 0.6241 - val_loss: 0.7595 - val_accuracy: 0.6760\n",
      "Epoch 16/30\n",
      "4480/4480 [==============================] - 3s 775us/step - loss: 0.7902 - accuracy: 0.6359 - val_loss: 0.8417 - val_accuracy: 0.5828\n",
      "Epoch 17/30\n",
      "4480/4480 [==============================] - 3s 773us/step - loss: 0.7820 - accuracy: 0.6489 - val_loss: 0.7242 - val_accuracy: 0.6521\n",
      "Epoch 18/30\n",
      "4480/4480 [==============================] - 3s 776us/step - loss: 0.7712 - accuracy: 0.6569 - val_loss: 0.7689 - val_accuracy: 0.6833\n",
      "Epoch 19/30\n",
      "4480/4480 [==============================] - 3s 772us/step - loss: 0.7601 - accuracy: 0.6594 - val_loss: 0.6830 - val_accuracy: 0.7047\n",
      "Epoch 20/30\n",
      "4480/4480 [==============================] - 3s 773us/step - loss: 0.7467 - accuracy: 0.6647 - val_loss: 0.7680 - val_accuracy: 0.6510\n",
      "Epoch 21/30\n",
      "4480/4480 [==============================] - 4s 783us/step - loss: 0.7407 - accuracy: 0.6723 - val_loss: 0.7031 - val_accuracy: 0.6724\n",
      "Epoch 22/30\n",
      "4480/4480 [==============================] - 4s 803us/step - loss: 0.7213 - accuracy: 0.6737 - val_loss: 0.6622 - val_accuracy: 0.7089\n",
      "Epoch 23/30\n",
      "4480/4480 [==============================] - 4s 821us/step - loss: 0.7179 - accuracy: 0.6795 - val_loss: 0.6947 - val_accuracy: 0.6917\n",
      "Epoch 24/30\n",
      "4480/4480 [==============================] - 3s 777us/step - loss: 0.7147 - accuracy: 0.6900 - val_loss: 0.6972 - val_accuracy: 0.6766\n",
      "Epoch 25/30\n",
      "4480/4480 [==============================] - 3s 779us/step - loss: 0.7162 - accuracy: 0.6973 - val_loss: 0.6125 - val_accuracy: 0.7432\n",
      "Epoch 26/30\n",
      "4480/4480 [==============================] - 3s 769us/step - loss: 0.6959 - accuracy: 0.6920 - val_loss: 0.6344 - val_accuracy: 0.6990\n",
      "Epoch 27/30\n",
      "4480/4480 [==============================] - 4s 790us/step - loss: 0.6933 - accuracy: 0.7022 - val_loss: 0.6198 - val_accuracy: 0.7312\n",
      "Epoch 28/30\n",
      "4480/4480 [==============================] - 3s 768us/step - loss: 0.6911 - accuracy: 0.6989 - val_loss: 0.6141 - val_accuracy: 0.7385\n",
      "Epoch 29/30\n",
      "4480/4480 [==============================] - 3s 777us/step - loss: 0.6666 - accuracy: 0.7071 - val_loss: 0.6811 - val_accuracy: 0.6781\n",
      "Epoch 30/30\n",
      "4480/4480 [==============================] - 3s 780us/step - loss: 0.6730 - accuracy: 0.7174 - val_loss: 0.6051 - val_accuracy: 0.7448\n",
      "Test loss: 0.6051250030597051\n",
      "Test accuracy: 0.7447916865348816\n"
     ]
    },
    {
     "data": {
      "image/png": "[encoded data removed]",
      "text/plain": [
       "<Figure size 432x288 with 1 Axes>"
      ]
     },
     "metadata": {
      "needs_background": "light",
      "tags": []
     },
     "output_type": "display_data"
    },
    {
     "data": {
      "image/png": "[encoded data removed]",
      "text/plain": [
       "<Figure size 432x288 with 1 Axes>"
      ]
     },
     "metadata": {
      "needs_background": "light",
      "tags": []
     },
     "output_type": "display_data"
    }
   ],
   "source": [
    "# This step creates a MLP model with five hidden layers\n",
    "model_deep = Sequential()\n",
    "\n",
    "\n",
    "# Here we have Added these dense layers to create a fully connected Multi Layer Perceptron\n",
    "# Here we have also specifed an input shape for the first layer just like the CNN model above.\n",
    "# Here in MLP we have used Relu as the activation function \n",
    "model_deep.add(Dense(256, activation='relu', input_shape=(X_flat_train.shape[1],)))\n",
    "# Here we have made use of the Dropout layers to remove features and additionally fight overfitting\n",
    "model_deep.add(Dropout(0.05))\n",
    "model_deep.add(Dense(128, activation='relu'))\n",
    "model_deep.add(Dropout(0.05))\n",
    "model_deep.add(Dense(128, activation='relu'))\n",
    "model_deep.add(Dropout(0.05))\n",
    "model_deep.add(Dense(128, activation='relu'))\n",
    "model_deep.add(Dropout(0.05))\n",
    "model_deep.add(Dense(128, activation='relu'))\n",
    "model_deep.add(Dropout(0.05))\n",
    "#Here we ended the network with a number of units equal to the number of classes we have for our outcome(4 MRI classes)\n",
    "model_deep.add(Dense(4, activation='softmax'))\n",
    "\n",
    "model_deep.summary()\n",
    "\n",
    "# Now we Compile the model to put it all together.\n",
    "model_deep.compile(loss='categorical_crossentropy',\n",
    "              optimizer=RMSprop(), # Optimizer used here is RMSprop\n",
    "              metrics=['accuracy'])\n",
    "\n",
    "# 32 MRI images propagated through the network and with 30 passes over the entire dataset\n",
    "\n",
    "history = model_deep.fit(X_flat_train, y_train,\n",
    "                          batch_size=32,\n",
    "                          epochs=30,\n",
    "                          verbose=1,\n",
    "                          validation_data=(X_flat_test, y_test))\n",
    "score = model_deep.evaluate(X_flat_test, y_test, verbose=0)\n",
    "print('Test loss:', score[0])\n",
    "print('Test accuracy:', score[1])# Output loss and accuracy values.\n",
    "\n",
    "#Here we have plotted the accuracy and the loss curve for the MLP\n",
    "plt.plot(history.history['accuracy'])\n",
    "plt.plot(history.history['val_accuracy'])\n",
    "plt.title('MLP accuracy')# Set title of the graph.\n",
    "plt.ylabel('accuracy')# Set y-axis label as 'accuracy'.\n",
    "plt.xlabel('epoch')# Set x-axis label as 'epoch'.\n",
    "plt.legend(['train', 'val'], loc='upper left')\n",
    "plt.show()\n",
    "\n",
    "plt.plot(history.history['loss'])\n",
    "plt.plot(history.history['val_loss']) # Display catogories of each curve.\n",
    "plt.title('MLP loss')# Set title of the graph.\n",
    "plt.ylabel('loss')# Set y-axis label as 'loss'.\n",
    "plt.xlabel('epoch')# Set x-axis label as 'epoch'.\n",
    "plt.legend(['train', 'val'], loc='upper left')\n",
    "plt.show()\n",
    "\n"
   ]
  }
 ],
 "metadata": {
  "colab": {
   "collapsed_sections": [],
   "name": "Project_Health.ipynb",
   "provenance": []
  },
  "kernelspec": {
   "display_name": "Python 3",
   "language": "python",
   "name": "python3"
  },
  "language_info": {
   "codemirror_mode": {
    "name": "ipython",
    "version": 3
   },
   "file_extension": ".py",
   "mimetype": "text/x-python",
   "name": "python",
   "nbconvert_exporter": "python",
   "pygments_lexer": "ipython3",
   "version": "3.7.3"
  }
 },
 "nbformat": 4,
 "nbformat_minor": 1
}
